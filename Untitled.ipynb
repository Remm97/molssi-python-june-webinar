{
 "cells": [
  {
   "cell_type": "code",
   "execution_count": 12,
   "metadata": {},
   "outputs": [
    {
     "name": "stderr",
     "output_type": "stream",
     "text": [
      "usage: ipykernel_launcher.py [-h] mdout_file path\n",
      "ipykernel_launcher.py: error: the following arguments are required: path\n"
     ]
    },
    {
     "ename": "SystemExit",
     "evalue": "2",
     "output_type": "error",
     "traceback": [
      "An exception has occurred, use %tb to see the full traceback.\n",
      "\u001b[1;31mSystemExit\u001b[0m\u001b[1;31m:\u001b[0m 2\n"
     ]
    }
   ],
   "source": [
    "import os\n",
    "import argparse\n",
    "\n",
    "if __name__ == \"__main__\":\n",
    "    parser = argparse.ArgumentParser(description=\"This script analyzes a user provided mdout file and outputs Etot.\")\n",
    "    parser.add_argument(\"mdout_file\", help=\"The filepath for the mdout file to analyze\")\n",
    "    parser.add_argument('Path', metavar='path', type=str, help='the path to mdout files')\n",
    "    args = parser.parse_args()\n",
    "    mdout_file = args.path\n",
    "\n",
    "#below function creates path to files, * = wild card\n",
    "file_location = os.path.join('data', '03_Prod.mdout')\n",
    "print(file_location)\n",
    "\n",
    "filename = os.path.basename(args.path).split('.')[0]\n",
    "print(filename)\n",
    "\n",
    "filehandle = open('filename_etot.txt','w+')\n",
    "filehandle.write(F' NSTEP \\t Time (ps) \\t Etot (kcal/mol) \\t Temp (K) \\t Press \\n')\n",
    "\n",
    "#open for reading (below)\n",
    "outfile = open(file_location, 'r')\n",
    "#below we are pulling in all data using readlines\n",
    "data = outfile.readlines()\n",
    "#then closing file\n",
    "outfile.close()\n",
    "\n",
    "\n",
    "for line in data:\n",
    "    if 'Etot' in line:\n",
    "        energy_line = line\n",
    "        #split line into its words\n",
    "        etot_words = energy_line.split()\n",
    "        etot = etot_words[2]\n",
    "#        print(etot_label, etot)       \n",
    "\n",
    "    if 'NSTEP' in line:\n",
    "        iteration_line = line\n",
    "        #split line into its words\n",
    "        iteration_words = iteration_line.split()\n",
    "        iteration = iteration_words[2]\n",
    "#        print(iteration_label, iteration)\n",
    "    \n",
    "    if 'TIME(PS)' in line:\n",
    "        time_line = line\n",
    "        #split line into its words\n",
    "        time_words = time_line.split()\n",
    "        time = time_words[5]\n",
    "#        print(time_label, time)\n",
    "        \n",
    "    if 'TEMP(K)' in line:\n",
    "        temp_line = line\n",
    "        #split line into its words\n",
    "        temp_words = temp_line.split()\n",
    "        temp_label = temp_words[6]\n",
    "        temp = temp_words[8]\n",
    "#        print(temp_label, temp_words)\n",
    "    \n",
    "    if 'PRESS' in line:\n",
    "        press_line = line\n",
    "        #split line into its words\n",
    "        press_words = press_line.split()\n",
    "#        press_label = press_words[9]\n",
    "        press = press_words[11]\n",
    "#        print(ppress_words)\n",
    "\n",
    "        filehandle.write(F' {iteration} \\t {time} \\t {etot} \\t {temp} \\t {press} \\n')\n",
    "\n",
    "\n",
    "    if 'A V E R A G E S' in line:\n",
    "        break\n",
    "        \n",
    "\n",
    "filehandle.close()"
   ]
  },
  {
   "cell_type": "code",
   "execution_count": null,
   "metadata": {},
   "outputs": [],
   "source": []
  }
 ],
 "metadata": {
  "kernelspec": {
   "display_name": "Python 3",
   "language": "python",
   "name": "python3"
  },
  "language_info": {
   "codemirror_mode": {
    "name": "ipython",
    "version": 3
   },
   "file_extension": ".py",
   "mimetype": "text/x-python",
   "name": "python",
   "nbconvert_exporter": "python",
   "pygments_lexer": "ipython3",
   "version": "3.7.6"
  }
 },
 "nbformat": 4,
 "nbformat_minor": 4
}
