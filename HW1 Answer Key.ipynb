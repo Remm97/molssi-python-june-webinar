{
 "cells": [
  {
   "cell_type": "markdown",
   "metadata": {},
   "source": [
    "# Homework 1\n",
    "#### This is the solution to the homework for the first session."
   ]
  },
  {
   "cell_type": "code",
   "execution_count": 9,
   "metadata": {},
   "outputs": [],
   "source": [
    "import os\n",
    "\n",
    "# Open file for reading\n",
    "filename = os.path.join('data', '03_Prod.mdout')\n",
    "f = open(filename, 'r')\n",
    "\n",
    "# Read data in file\n",
    "data = f.readlines()\n",
    "f.close()\n",
    "\n",
    "# Loop through lines in file\n",
    "f_write = open('EtotAK.txt', 'w+')\n",
    "\n",
    "# Get info from line\n",
    "for line in data:\n",
    "    split_line = line.split()\n",
    "    \n",
    "    if 'Etot' in line:\n",
    "        #print(split_line[2])\n",
    "        f_write.write(f'{split_line[2]}\\n')\n",
    "\n",
    "# Write info to new file\n",
    "f_write.close()"
   ]
  },
  {
   "cell_type": "code",
   "execution_count": null,
   "metadata": {},
   "outputs": [],
   "source": []
  }
 ],
 "metadata": {
  "kernelspec": {
   "display_name": "Python 3",
   "language": "python",
   "name": "python3"
  },
  "language_info": {
   "codemirror_mode": {
    "name": "ipython",
    "version": 3
   },
   "file_extension": ".py",
   "mimetype": "text/x-python",
   "name": "python",
   "nbconvert_exporter": "python",
   "pygments_lexer": "ipython3",
   "version": "3.7.6"
  }
 },
 "nbformat": 4,
 "nbformat_minor": 4
}
