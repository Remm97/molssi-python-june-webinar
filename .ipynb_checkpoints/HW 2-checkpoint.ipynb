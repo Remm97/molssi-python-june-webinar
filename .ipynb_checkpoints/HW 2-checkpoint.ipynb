{
 "cells": [
  {
   "cell_type": "markdown",
   "metadata": {},
   "source": [
    "# Writing Data to Interatomic_Distances.txt\n",
    "## MolSSI Python Webinar 2 HW\n",
    "## Reem"
   ]
  },
  {
   "cell_type": "code",
   "execution_count": 13,
   "metadata": {},
   "outputs": [],
   "source": [
    "import os\n",
    "import numpy as np\n",
    "#below function creates path to files, * = wild card\n",
    "file_location = os.path.join('data', 'water.xyz')\n",
    "#print(file_location)"
   ]
  },
  {
   "cell_type": "code",
   "execution_count": 23,
   "metadata": {},
   "outputs": [
    {
     "ename": "TypeError",
     "evalue": "list indices must be integers or slices, not str",
     "output_type": "error",
     "traceback": [
      "\u001b[1;31m---------------------------------------------------------------------------\u001b[0m",
      "\u001b[1;31mTypeError\u001b[0m                                 Traceback (most recent call last)",
      "\u001b[1;32m<ipython-input-23-e245ed6aff98>\u001b[0m in \u001b[0;36m<module>\u001b[1;34m\u001b[0m\n\u001b[0;32m     38\u001b[0m         \u001b[0my\u001b[0m \u001b[1;33m=\u001b[0m \u001b[1;33m[\u001b[0m\u001b[0mO_y\u001b[0m\u001b[1;33m,\u001b[0m \u001b[0mH1_y\u001b[0m\u001b[1;33m,\u001b[0m \u001b[0mH2_y\u001b[0m\u001b[1;33m]\u001b[0m\u001b[1;33m\u001b[0m\u001b[1;33m\u001b[0m\u001b[0m\n\u001b[0;32m     39\u001b[0m         \u001b[0mz\u001b[0m \u001b[1;33m=\u001b[0m \u001b[1;33m[\u001b[0m\u001b[0mO_z\u001b[0m\u001b[1;33m,\u001b[0m \u001b[0mH1_z\u001b[0m\u001b[1;33m,\u001b[0m \u001b[0mH2_z\u001b[0m\u001b[1;33m]\u001b[0m\u001b[1;33m\u001b[0m\u001b[1;33m\u001b[0m\u001b[0m\n\u001b[1;32m---> 40\u001b[1;33m         \u001b[0mdistance\u001b[0m \u001b[1;33m=\u001b[0m \u001b[0mnp\u001b[0m\u001b[1;33m.\u001b[0m\u001b[0msqrt\u001b[0m\u001b[1;33m(\u001b[0m \u001b[1;33m(\u001b[0m\u001b[1;33m(\u001b[0m\u001b[0mx\u001b[0m\u001b[1;33m[\u001b[0m\u001b[0mi\u001b[0m\u001b[1;33m]\u001b[0m\u001b[1;33m-\u001b[0m\u001b[0mx\u001b[0m\u001b[1;33m[\u001b[0m\u001b[0mj\u001b[0m\u001b[1;33m]\u001b[0m\u001b[1;33m)\u001b[0m\u001b[1;33m**\u001b[0m\u001b[1;36m2\u001b[0m\u001b[1;33m)\u001b[0m \u001b[1;33m+\u001b[0m \u001b[1;33m(\u001b[0m\u001b[1;33m(\u001b[0m\u001b[0my\u001b[0m\u001b[1;33m[\u001b[0m\u001b[0mi\u001b[0m\u001b[1;33m]\u001b[0m\u001b[1;33m-\u001b[0m\u001b[0my\u001b[0m\u001b[1;33m[\u001b[0m\u001b[0mj\u001b[0m\u001b[1;33m]\u001b[0m\u001b[1;33m)\u001b[0m\u001b[1;33m**\u001b[0m\u001b[1;36m2\u001b[0m\u001b[1;33m)\u001b[0m \u001b[1;33m+\u001b[0m \u001b[1;33m(\u001b[0m\u001b[1;33m(\u001b[0m\u001b[0mz\u001b[0m\u001b[1;33m[\u001b[0m\u001b[0mi\u001b[0m\u001b[1;33m]\u001b[0m\u001b[1;33m-\u001b[0m\u001b[0mz\u001b[0m\u001b[1;33m[\u001b[0m\u001b[0mj\u001b[0m\u001b[1;33m]\u001b[0m\u001b[1;33m)\u001b[0m\u001b[1;33m**\u001b[0m\u001b[1;36m2\u001b[0m\u001b[1;33m)\u001b[0m \u001b[1;33m)\u001b[0m\u001b[1;33m\u001b[0m\u001b[1;33m\u001b[0m\u001b[0m\n\u001b[0m\u001b[0;32m     41\u001b[0m         \u001b[0mprint\u001b[0m\u001b[1;33m(\u001b[0m\u001b[0mdistance\u001b[0m\u001b[1;33m)\u001b[0m\u001b[1;33m\u001b[0m\u001b[1;33m\u001b[0m\u001b[0m\n",
      "\u001b[1;31mTypeError\u001b[0m: list indices must be integers or slices, not str"
     ]
    }
   ],
   "source": [
    "filehandle = open('Interatomic_Distances.txt', 'w+')\n",
    "#filehandle.write(f' NSTEP \\t Time (ps) \\t Etot (kcal/mol) \\t Temp (K) \\t Press \\n')\n",
    "\n",
    "#open for reading (below)\n",
    "outfile = open(file_location, 'r')\n",
    "#below we are pulling in all data using readlines\n",
    "data = outfile.readlines()\n",
    "#then closing file\n",
    "outfile.close()\n",
    "\n",
    "for line in data:\n",
    "    if 'O' in line:\n",
    "        energy_line = line\n",
    "        O_words = energy_line.split()\n",
    "        O_x = (o_words[1])\n",
    "        O_y = (o_words[2])\n",
    "        O_z = (o_words[3])\n",
    "        print('(' , O_x , ',' , O_y , ',' , O_z , ')')\n",
    "        \n",
    "    if 'H1' in line:\n",
    "        energy_line = line\n",
    "        H1_words = energy_line.split()\n",
    "        H1_x = (H1_words[1])\n",
    "        H1_y = (H1_words[2])\n",
    "        H1_z = (H1_words[3])\n",
    "        print('(' , H1_x , ',' , H1_y , ',' , H1_z , ')')\n",
    "                \n",
    "    if 'H2' in line:\n",
    "        energy_line = line\n",
    "        H2_words = energy_line.split()\n",
    "        H2_x = (H2_words[1])\n",
    "        H2_y = (H2_words[2])\n",
    "        H2_z = (H2_words[3])\n",
    "        print('(' , H2_x , ',' , H2_y , ',' , H2_z , ')')\n",
    "    \n",
    "    for i in line:\n",
    "        x = [O_x, H1_x, H2_x]\n",
    "        y = [O_y, H1_y, H2_y]\n",
    "        z = [O_z, H1_z, H2_z]\n",
    "        distance = np.sqrt( ((x[i]-x[j])**2) + ((y[i]-y[j])**2) + ((z[i]-z[j])**2) )\n",
    "        print(distance)"
   ]
  },
  {
   "cell_type": "code",
   "execution_count": null,
   "metadata": {},
   "outputs": [],
   "source": []
  }
 ],
 "metadata": {
  "kernelspec": {
   "display_name": "Python 3",
   "language": "python",
   "name": "python3"
  },
  "language_info": {
   "codemirror_mode": {
    "name": "ipython",
    "version": 3
   },
   "file_extension": ".py",
   "mimetype": "text/x-python",
   "name": "python",
   "nbconvert_exporter": "python",
   "pygments_lexer": "ipython3",
   "version": "3.7.6"
  }
 },
 "nbformat": 4,
 "nbformat_minor": 4
}
