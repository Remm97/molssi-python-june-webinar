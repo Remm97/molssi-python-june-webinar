{
 "cells": [
  {
   "cell_type": "markdown",
   "metadata": {},
   "source": [
    "# Writing Data to Etot.txt\n",
    "## MolSSI Python Webinar 1 HW\n",
    "## Reem"
   ]
  },
  {
   "cell_type": "code",
   "execution_count": 7,
   "metadata": {},
   "outputs": [
    {
     "name": "stdout",
     "output_type": "stream",
     "text": [
      "data\\03_Prod.mdout\n"
     ]
    }
   ],
   "source": [
    "import os\n",
    "\n",
    "#below function creates path to files, * = wild card\n",
    "file_location = os.path.join('data', '03_Prod.mdout')\n",
    "print(file_location)"
   ]
  },
  {
   "cell_type": "code",
   "execution_count": 8,
   "metadata": {},
   "outputs": [],
   "source": [
    "filehandle = open('Etot.txt', 'w+')\n",
    "filehandle.write(F' NSTEP \\t Time (ps) \\t Etot (kcal/mol) \\t Temp (K) \\t Press \\n')\n",
    "\n",
    "#open for reading (below)\n",
    "outfile = open(file_location, 'r')\n",
    "#below we are pulling in all data using readlines\n",
    "data = outfile.readlines()\n",
    "#then closing file\n",
    "outfile.close()\n",
    "\n",
    "for line in data:\n",
    "    if 'Etot' in line:\n",
    "        energy_line = line\n",
    "        #split line into its words\n",
    "        etot_words = energy_line.split()\n",
    "        #recasting energy (string) as a float\n",
    "#        etot_label = etot_words[0]\n",
    "        etot = etot_words[2]\n",
    "#        print(etot_label, etot)       \n",
    "\n",
    "    if 'NSTEP' in line:\n",
    "        iteration_line = line\n",
    "        #split line into its words\n",
    "        iteration_words = iteration_line.split()\n",
    "        #recasting energy (string) as a float\n",
    "#        iteration_label = iteration_words[0]\n",
    "        iteration = iteration_words[2]\n",
    "#        print(iteration_label, iteration)\n",
    "    \n",
    "    if 'TIME(PS)' in line:\n",
    "        time_line = line\n",
    "        #split line into its words\n",
    "        time_words = time_line.split()\n",
    "        #recasting energy (string) as a float\n",
    "#        time_label = time_words[3]\n",
    "        time = time_words[5]\n",
    "#        print(time_label, time)\n",
    "        \n",
    "    if 'TEMP(K)' in line:\n",
    "        temp_line = line\n",
    "        #split line into its words\n",
    "        temp_words = temp_line.split()\n",
    "        #recasting energy (string) as a float\n",
    "#        temp_label = temp_words[6]\n",
    "        temp = temp_words[8]\n",
    "#        print(temp_words)\n",
    "    \n",
    "    if 'PRESS' in line:\n",
    "        press_line = line\n",
    "        #split line into its words\n",
    "        press_words = press_line.split()\n",
    "        #recasting energy (string) as a float\n",
    "#        press_label = press_words[9]\n",
    "        press = press_words[11]\n",
    "#        print(press_words)\n",
    "        \n",
    "    filehandle.write(F' {iteration} \\t {time} \\t {etot} \\t {temp} \\t {press} \\n')\n",
    "\n",
    "filehandle.close()"
   ]
  },
  {
   "cell_type": "code",
   "execution_count": null,
   "metadata": {},
   "outputs": [],
   "source": []
  }
 ],
 "metadata": {
  "kernelspec": {
   "display_name": "Python 3",
   "language": "python",
   "name": "python3"
  },
  "language_info": {
   "codemirror_mode": {
    "name": "ipython",
    "version": 3
   },
   "file_extension": ".py",
   "mimetype": "text/x-python",
   "name": "python",
   "nbconvert_exporter": "python",
   "pygments_lexer": "ipython3",
   "version": "3.7.6"
  }
 },
 "nbformat": 4,
 "nbformat_minor": 4
}
